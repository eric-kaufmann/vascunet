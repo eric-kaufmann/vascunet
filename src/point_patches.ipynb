{
 "cells": [
  {
   "cell_type": "code",
   "execution_count": 7,
   "metadata": {},
   "outputs": [],
   "source": [
    "import numpy as np\n",
    "from utils.vessel_iterator import VesselIterator\n",
    "from utils.helper_functions import get_project_root\n",
    "from pathlib import Path\n",
    "import fpsample"
   ]
  },
  {
   "cell_type": "code",
   "execution_count": 5,
   "metadata": {},
   "outputs": [
    {
     "name": "stdout",
     "output_type": "stream",
     "text": [
      "{'velocity_systolic': array([[-0.17568687, -0.01089282,  0.6005409 ],\n",
      "       [-0.08571447,  0.00191565,  0.38374978],\n",
      "       [-0.13425086, -0.00498249,  0.48106948],\n",
      "       ...,\n",
      "       [ 0.00379518,  0.04885117,  0.14383017],\n",
      "       [ 0.01138554,  0.14655349,  0.4314905 ],\n",
      "       [ 0.00569277,  0.07327674,  0.21574526]], dtype=float32), 'velocity_diastolic': array([[-0.0492011 ,  0.00110089,  0.1816089 ],\n",
      "       [-0.02020382,  0.00125361,  0.09878162],\n",
      "       [-0.03342148,  0.00113784,  0.13548969],\n",
      "       ...,\n",
      "       [ 0.00151787,  0.01953791,  0.05752455],\n",
      "       [ 0.00455362,  0.05861374,  0.17257366],\n",
      "       [ 0.00227681,  0.02930687,  0.08628683]], dtype=float32), 'pressure_systolic': array([25757.11247825, 25761.03540873, 25768.98639036, ...,\n",
      "       26992.21877059, 26907.66166599, 26966.31389426]), 'pressure_diastolic': array([10342.02082888, 10342.49881249, 10343.50130233, ...,\n",
      "       10677.65733694, 10641.62140038, 10665.81340322]), 'fluid_file_path': '/Users/erka/workspace/vascunet/data/carotid_flow_database/case_w_004_left_fluid.vtu', 'mesh_file_path': '/Users/erka/workspace/vascunet/data/carotid_flow_database/case_w_004_left_wss.vtu', 'data_points': array([[-23.27615485,  22.32006599, -23.44631595],\n",
      "       [-23.34283517,  22.42786494, -23.47896211],\n",
      "       [-23.27458914,  22.38830719, -23.56650138],\n",
      "       ...,\n",
      "       [-14.34751433,  -0.37474104, -93.79461802],\n",
      "       [-14.30605343,  -0.43272225, -93.77601901],\n",
      "       [-14.29397073,  -0.42112389, -93.78027715]]), 'mesh_points': array([[-23.31787184,  22.62256394, -23.48863485],\n",
      "       [-23.30917145,  22.60481829, -23.63183088],\n",
      "       [-23.41439781,  22.46198666, -23.50640064],\n",
      "       ...,\n",
      "       [-14.24360689,  -0.46762935, -93.76581075],\n",
      "       [-14.34751433,  -0.37474104, -93.79461802],\n",
      "       [-14.29397073,  -0.42112389, -93.78027715]])}\n"
     ]
    }
   ],
   "source": [
    "pr = get_project_root()\n",
    "data_path = pr / 'data' / 'carotid_flow_database'\n",
    "\n",
    "iterator = VesselIterator(data_path)\n",
    "\n",
    "for vessel in iterator:\n",
    "    print(vessel)\n",
    "    break"
   ]
  },
  {
   "cell_type": "code",
   "execution_count": 15,
   "metadata": {},
   "outputs": [
    {
     "name": "stdout",
     "output_type": "stream",
     "text": [
      "(17709, 3)\n"
     ]
    },
    {
     "data": {
      "text/plain": [
       "array([[-19.21322771,  23.04101916, -25.44372355],\n",
       "       [-14.00162878,  -5.17128166, -92.1746248 ],\n",
       "       [-34.99677429,   2.38208241, -57.46307866],\n",
       "       [-21.16665515,   9.39980492, -75.13753115],\n",
       "       [-22.85099042,  12.99469068, -43.71099352],\n",
       "       [-23.95777271,  13.82535302, -59.64649529],\n",
       "       [-31.07406892,   3.58914916, -45.62973554],\n",
       "       [-18.37543   ,  -0.8835001 , -81.41860451],\n",
       "       [-31.06316529,   7.20235112, -68.09671306],\n",
       "       [-19.08171962,  20.37891033, -36.27760736]])"
      ]
     },
     "execution_count": 15,
     "metadata": {},
     "output_type": "execute_result"
    }
   ],
   "source": [
    "## FPS sampling\n",
    "\n",
    "print(vessel['mesh_points'].shape)\n",
    "\n",
    "midpoints = fpsample.fps_npdu_sampling(vessel['mesh_points'], 10)\n",
    "vessel['mesh_points'][midpoints]"
   ]
  },
  {
   "cell_type": "code",
   "execution_count": null,
   "metadata": {},
   "outputs": [],
   "source": []
  }
 ],
 "metadata": {
  "kernelspec": {
   "display_name": ".venv",
   "language": "python",
   "name": "python3"
  },
  "language_info": {
   "codemirror_mode": {
    "name": "ipython",
    "version": 3
   },
   "file_extension": ".py",
   "mimetype": "text/x-python",
   "name": "python",
   "nbconvert_exporter": "python",
   "pygments_lexer": "ipython3",
   "version": "3.12.3"
  }
 },
 "nbformat": 4,
 "nbformat_minor": 2
}
