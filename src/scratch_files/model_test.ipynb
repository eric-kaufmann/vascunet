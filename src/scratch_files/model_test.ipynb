{
 "cells": [
  {
   "cell_type": "code",
   "execution_count": 1,
   "metadata": {},
   "outputs": [],
   "source": [
    "import lightning as L\n",
    "import torch\n",
    "from torch.utils.data import DataLoader\n",
    "from torch import optim, nn\n",
    "\n",
    "import utils.helper_functions as hf\n",
    "from vessel_dataloader import VesselDataset\n",
    "from models import NSModel, VesselGeomEmbedding\n",
    "\n",
    "\n",
    "DATA_DIR = hf.get_project_root() / \"data\" / \"carotid_flow_database\"\n",
    "BATCH_SIZE = 8\n",
    "\n",
    "class VesselModel(L.LightningModule):\n",
    "    def __init__(self, ns_model, vessel_geom_embedding, num_neighbours=32, num_midpoints=32):\n",
    "        super().__init__()\n",
    "        self.ns_model = ns_model\n",
    "        self.vessel_geom_embedding = vessel_geom_embedding\n",
    "        self.num_neighbours = num_neighbours\n",
    "        self.num_midpoints = num_midpoints\n",
    "\n",
    "    def training_step(self, batch, batch_idx):\n",
    "        mesh = batch['mesh_tensor']\n",
    "        fluid_points = batch['fluid_points']\n",
    "        sys_vel = batch['sys_vel_tensor']\n",
    "        \n",
    "        # get num_midpoints points index from farthest point sample which create center of patches\n",
    "        fps_index = hf.farthest_point_sample(mesh, self.num_midpoints)\n",
    "        # index to real points \n",
    "        mid_points = hf.index_points(mesh, fps_index)\n",
    "        # calculate distances between the mesh_points and the new_points\n",
    "        dists = hf.square_distance(mid_points, mesh)\n",
    "        # get the indices of the num_neighbours closest points\n",
    "        dist_idx = dists.argsort()[:, :, :self.num_neighbours]\n",
    "        # group the points by the indices from dist_idx\n",
    "        grouped_points = hf.index_points(mesh, dist_idx)\n",
    "        # flatten the grouped points\n",
    "        grouped_points_flat = torch.flatten(grouped_points, start_dim=1)\n",
    "        \n",
    "        mesh_emb = self.vessel_geom_embedding(grouped_points_flat)\n",
    "        \n",
    "        mesh_sample_input = torch.concat((fluid_points, mesh_emb), dim=1)\n",
    "        \n",
    "        ns_pred = self.ns_model(mesh_sample_input)\n",
    "\n",
    "        loss = nn.functional.mse_loss(ns_pred, sys_vel)\n",
    "\n",
    "        self.log(\"train_loss\", loss, prog_bar=True, on_step=True, on_epoch=True, batch_size=1)\n",
    "        return loss\n",
    "\n",
    "    def configure_optimizers(self):\n",
    "        optimizer = optim.Adam(self.parameters(), lr=1e-3)\n",
    "        return optimizer"
   ]
  },
  {
   "cell_type": "code",
   "execution_count": 8,
   "metadata": {},
   "outputs": [],
   "source": [
    "num_random_mesh_iterations=1000\n",
    "num_fluid_samples=10_000\n",
    "num_meshpoints=8192\n",
    "seed=666\n",
    "num_midpoints=32\n",
    "num_neighbours=32\n",
    "\n",
    "dataset = VesselDataset(\n",
    "    DATA_DIR, \n",
    "    num_random_mesh_iterations=num_random_mesh_iterations, \n",
    "    num_fluid_samples=num_fluid_samples, \n",
    "    num_meshpoints=num_meshpoints, \n",
    "    seed=seed\n",
    ")\n",
    "\n",
    "dataloader = DataLoader(\n",
    "    dataset, \n",
    "    batch_size=BATCH_SIZE, \n",
    "    shuffle=False, \n",
    "    num_workers=2, \n",
    "    persistent_workers=True\n",
    ")\n",
    "\n",
    "ns_model = NSModel(\n",
    "    in_features=256+3, \n",
    "    out_features=3\n",
    ")\n",
    "\n",
    "vessel_geom_embedding_model = VesselGeomEmbedding(\n",
    "    in_features=num_midpoints*num_neighbours*3, \n",
    "    out_features=256\n",
    ")"
   ]
  },
  {
   "cell_type": "code",
   "execution_count": 9,
   "metadata": {},
   "outputs": [
    {
     "name": "stdout",
     "output_type": "stream",
     "text": [
      "torch.Size([8, 8192, 3])\n",
      "torch.Size([8, 3])\n",
      "torch.Size([8, 3])\n"
     ]
    }
   ],
   "source": [
    "for batch in dataloader:\n",
    "    mesh = batch['mesh_tensor']\n",
    "    fluid_points = batch['fluid_points']\n",
    "    sys_vel = batch['sys_vel_tensor']\n",
    "    break\n",
    "print(mesh.shape, fluid_points.shape, sys_vel.shape, sep='\\n')"
   ]
  },
  {
   "cell_type": "code",
   "execution_count": 12,
   "metadata": {},
   "outputs": [
    {
     "data": {
      "text/plain": [
       "(torch.Size([8, 3]),\n",
       " tensor([[-0.0919,  0.2597,  0.3360],\n",
       "         [-0.0877,  0.2610,  0.3370],\n",
       "         [-0.0876,  0.2584,  0.3338],\n",
       "         [-0.0908,  0.2559,  0.3331],\n",
       "         [-0.0916,  0.2543,  0.3360],\n",
       "         [-0.0916,  0.2584,  0.3360],\n",
       "         [-0.0858,  0.2566,  0.3352],\n",
       "         [-0.0843,  0.2610,  0.3345]], grad_fn=<AddmmBackward0>))"
      ]
     },
     "execution_count": 12,
     "metadata": {},
     "output_type": "execute_result"
    }
   ],
   "source": [
    "# get num_midpoints points index from farthest point sample which create center of patches\n",
    "fps_index = hf.farthest_point_sample(mesh, num_midpoints)\n",
    "# index to real points \n",
    "mid_points = hf.index_points(mesh, fps_index)\n",
    "# calculate distances between the mesh_points and the new_points\n",
    "dists = hf.square_distance(mid_points, mesh)\n",
    "# get the indices of the num_neighbours closest points\n",
    "dist_idx = dists.argsort()[:, :, :num_neighbours]\n",
    "# group the points by the indices from dist_idx\n",
    "grouped_points = hf.index_points(mesh, dist_idx)\n",
    "# flatten the grouped points\n",
    "grouped_points_flat = torch.flatten(grouped_points, start_dim=1)\n",
    "\n",
    "mesh_emb = vessel_geom_embedding_model(grouped_points_flat)\n",
    "\n",
    "mesh_sample_input = torch.concat((fluid_points, mesh_emb), dim=1)\n",
    "\n",
    "ns_pred = ns_model(mesh_sample_input)\n",
    "\n",
    "ns_pred.shape, ns_pred"
   ]
  },
  {
   "cell_type": "code",
   "execution_count": 7,
   "metadata": {},
   "outputs": [
    {
     "data": {
      "text/plain": [
       "259"
      ]
     },
     "execution_count": 7,
     "metadata": {},
     "output_type": "execute_result"
    }
   ],
   "source": [
    "256+3"
   ]
  }
 ],
 "metadata": {
  "kernelspec": {
   "display_name": ".venv",
   "language": "python",
   "name": "python3"
  },
  "language_info": {
   "codemirror_mode": {
    "name": "ipython",
    "version": 3
   },
   "file_extension": ".py",
   "mimetype": "text/x-python",
   "name": "python",
   "nbconvert_exporter": "python",
   "pygments_lexer": "ipython3",
   "version": "3.9.13"
  }
 },
 "nbformat": 4,
 "nbformat_minor": 2
}
