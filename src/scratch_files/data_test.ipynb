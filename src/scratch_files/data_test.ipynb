{
 "cells": [
  {
   "cell_type": "code",
   "execution_count": 1,
   "metadata": {},
   "outputs": [],
   "source": [
    "import meshio\n",
    "import numpy as np\n",
    "import os\n",
    "from utils.vessel_iterator import VesselIterator"
   ]
  },
  {
   "cell_type": "code",
   "execution_count": 2,
   "metadata": {},
   "outputs": [],
   "source": [
    "from utils.vessel_iterator import VesselIterator"
   ]
  },
  {
   "cell_type": "code",
   "execution_count": 6,
   "metadata": {},
   "outputs": [],
   "source": [
    "def pick_n_random_indices(arr, n):\n",
    "    return np.random.choice(np.arange(len(arr)-1), n, replace=False)\n",
    "\n",
    "def move_and_rescale_matrix(matrix):\n",
    "    # Move the matrix to have minimum values at 0\n",
    "    min_vals = np.min(matrix, axis=0)\n",
    "    matrix -= min_vals\n",
    "\n",
    "    # Rescale the matrix to have maximum values at 1\n",
    "    max_vals = np.max(matrix, axis=0)\n",
    "    matrix /= max_vals\n",
    "\n",
    "    return matrix\n"
   ]
  },
  {
   "cell_type": "code",
   "execution_count": 3,
   "metadata": {},
   "outputs": [],
   "source": [
    "directory = r\"C:\\Users\\Eric Kaufmann\\workspace\\MA\\data\\carotid_flow_database\"\n",
    "iterator = VesselIterator(directory)"
   ]
  },
  {
   "cell_type": "code",
   "execution_count": 4,
   "metadata": {},
   "outputs": [
    {
     "name": "stdout",
     "output_type": "stream",
     "text": [
      "{'velocity_systolic': array([[-0.12212373,  0.04845762,  0.20492172],\n",
      "       [-0.10644325,  0.03737764,  0.1774077 ],\n",
      "       [-0.02810562,  0.00812455,  0.04300004],\n",
      "       ...,\n",
      "       [ 0.        ,  0.        ,  0.        ],\n",
      "       [ 0.        ,  0.        ,  0.        ],\n",
      "       [ 0.        ,  0.        ,  0.        ]], dtype=float32), 'velocity_diastolic': array([[-0.03587544,  0.01281789,  0.05687645],\n",
      "       [-0.03106931,  0.01007374,  0.04888218],\n",
      "       [-0.00986371,  0.00227457,  0.01433265],\n",
      "       ...,\n",
      "       [ 0.        ,  0.        ,  0.        ],\n",
      "       [ 0.        ,  0.        ,  0.        ],\n",
      "       [ 0.        ,  0.        ,  0.        ]], dtype=float32), 'pressure_systolic': array([29392.64006067, 29390.15744631, 29389.84551127, ...,\n",
      "       23821.34505004, 23838.74735801, 23828.09936172]), 'pressure_diastolic': array([10970.41123084, 10970.18504206, 10969.81256814, ...,\n",
      "        9966.40790416,  9967.48173603,  9965.67524602]), 'fluid_file_path': 'C:\\\\Users\\\\Eric Kaufmann\\\\workspace\\\\MA\\\\data\\\\carotid_flow_database\\\\case_k_003_left_fluid.vtu', 'mesh_file_path': 'C:\\\\Users\\\\Eric Kaufmann\\\\workspace\\\\MA\\\\data\\\\carotid_flow_database\\\\case_k_003_left_wss.vtu', 'data_points': array([[-24.72456788, -11.5574643 , -30.81967255],\n",
      "       [-24.71281604, -11.57809663, -30.84024354],\n",
      "       [-24.74593194, -11.59017091, -30.83301887],\n",
      "       ...,\n",
      "       [-37.68002887, -16.40272028, -28.56421708],\n",
      "       [-37.96670019, -17.28971454, -28.07573772],\n",
      "       [-37.92895394, -16.7979471 , -28.29666664]]), 'mesh_points': array([[-24.21853449, -10.87893711, -30.54364495],\n",
      "       [-24.24270178, -10.87453598, -30.51327917],\n",
      "       [-24.19776532, -10.89026846, -30.51940155],\n",
      "       ...,\n",
      "       [-37.68002887, -16.40272028, -28.56421708],\n",
      "       [-37.96670019, -17.28971454, -28.07573772],\n",
      "       [-37.92895394, -16.7979471 , -28.29666664]])}\n"
     ]
    }
   ],
   "source": [
    "for v in iterator:\n",
    "    print(v)\n",
    "    break"
   ]
  },
  {
   "cell_type": "code",
   "execution_count": 35,
   "metadata": {},
   "outputs": [
    {
     "data": {
      "text/plain": [
       "(181064, 3)"
      ]
     },
     "execution_count": 35,
     "metadata": {},
     "output_type": "execute_result"
    }
   ],
   "source": [
    "v[\"data_points\"].shape, v[\"velocity_systolic\"]"
   ]
  },
  {
   "cell_type": "code",
   "execution_count": 6,
   "metadata": {},
   "outputs": [
    {
     "data": {
      "text/plain": [
       "array([[0.48016698, 0.83526143, 0.9208262 ],\n",
       "       [0.47938158, 0.83539815, 0.92131359],\n",
       "       [0.48084194, 0.83490942, 0.92121532],\n",
       "       ...,\n",
       "       [0.04269021, 0.66366212, 0.95259699],\n",
       "       [0.03337386, 0.63610716, 0.96043732],\n",
       "       [0.03460055, 0.65138418, 0.95689131]])"
      ]
     },
     "execution_count": 6,
     "metadata": {},
     "output_type": "execute_result"
    }
   ],
   "source": [
    "mesh_points = move_and_rescale_matrix(v['mesh_points'])\n",
    "mesh_points"
   ]
  },
  {
   "cell_type": "code",
   "execution_count": 8,
   "metadata": {},
   "outputs": [],
   "source": [
    "idx = pick_n_random_indices(mesh_points, 10)"
   ]
  },
  {
   "cell_type": "code",
   "execution_count": 9,
   "metadata": {},
   "outputs": [
    {
     "data": {
      "text/plain": [
       "array([[-24.72456788, -11.5574643 , -30.81967255],\n",
       "       [-24.71281604, -11.57809663, -30.84024354],\n",
       "       [-24.74593194, -11.59017091, -30.83301887],\n",
       "       ...,\n",
       "       [-37.68002887, -16.40272028, -28.56421708],\n",
       "       [-37.96670019, -17.28971454, -28.07573772],\n",
       "       [-37.92895394, -16.7979471 , -28.29666664]])"
      ]
     },
     "execution_count": 9,
     "metadata": {},
     "output_type": "execute_result"
    }
   ],
   "source": [
    "v['data_points']"
   ]
  },
  {
   "cell_type": "code",
   "execution_count": 10,
   "metadata": {},
   "outputs": [
    {
     "data": {
      "text/plain": [
       "array([[-0.12212373,  0.04845762,  0.20492172],\n",
       "       [-0.10644325,  0.03737764,  0.1774077 ],\n",
       "       [-0.02810562,  0.00812455,  0.04300004],\n",
       "       ...,\n",
       "       [ 0.        ,  0.        ,  0.        ],\n",
       "       [ 0.        ,  0.        ,  0.        ],\n",
       "       [ 0.        ,  0.        ,  0.        ]], dtype=float32)"
      ]
     },
     "execution_count": 10,
     "metadata": {},
     "output_type": "execute_result"
    }
   ],
   "source": [
    "v['velocity_systolic']"
   ]
  },
  {
   "cell_type": "code",
   "execution_count": 13,
   "metadata": {},
   "outputs": [],
   "source": [
    "velocity_values = v['velocity_systolic']"
   ]
  },
  {
   "cell_type": "code",
   "execution_count": 11,
   "metadata": {},
   "outputs": [
    {
     "data": {
      "text/plain": [
       "array([[0.46372171, 0.81418262, 0.91639582],\n",
       "       [0.46410363, 0.81354166, 0.91606565],\n",
       "       [0.46302742, 0.81316657, 0.91618161],\n",
       "       ...,\n",
       "       [0.04269021, 0.66366212, 0.95259699],\n",
       "       [0.03337386, 0.63610716, 0.96043732],\n",
       "       [0.03460055, 0.65138418, 0.95689131]])"
      ]
     },
     "execution_count": 11,
     "metadata": {},
     "output_type": "execute_result"
    }
   ],
   "source": [
    "data_points = move_and_rescale_matrix(v['data_points'])\n",
    "data_points"
   ]
  },
  {
   "cell_type": "code",
   "execution_count": 14,
   "metadata": {},
   "outputs": [
    {
     "name": "stdout",
     "output_type": "stream",
     "text": [
      "[0.46372171 0.81418262 0.91639582]\n",
      "[-0.12212373  0.04845762  0.20492172]\n"
     ]
    }
   ],
   "source": [
    "for dp_idx, dp in enumerate(data_points):\n",
    "    print(dp)\n",
    "    print(velocity_values[dp_idx])\n",
    "    break"
   ]
  },
  {
   "cell_type": "code",
   "execution_count": 20,
   "metadata": {},
   "outputs": [
    {
     "data": {
      "text/plain": [
       "(array([0.46372171, 0.81418262, 0.91639582]),\n",
       " array([[0.74421275, 0.86645358, 0.91485767],\n",
       "        [0.71531627, 0.79491864, 0.92426223],\n",
       "        [0.64021995, 0.74795754, 0.78969147],\n",
       "        [0.45652517, 0.89669381, 0.97195716],\n",
       "        [0.70307962, 0.82710889, 0.9231813 ],\n",
       "        [0.08534664, 0.63662957, 0.81322446],\n",
       "        [0.49742848, 0.81976769, 0.89590514],\n",
       "        [0.65896828, 0.69306551, 0.79998046],\n",
       "        [0.50724035, 0.08815849, 0.08316298],\n",
       "        [0.75001843, 0.88817625, 0.92125056]]))"
      ]
     },
     "execution_count": 20,
     "metadata": {},
     "output_type": "execute_result"
    }
   ],
   "source": [
    "dp, mesh_points[idx]"
   ]
  },
  {
   "cell_type": "code",
   "execution_count": 22,
   "metadata": {},
   "outputs": [
    {
     "data": {
      "text/plain": [
       "array([[0.46372171, 0.81418262, 0.91639582],\n",
       "       [0.74421275, 0.86645358, 0.91485767],\n",
       "       [0.71531627, 0.79491864, 0.92426223],\n",
       "       [0.64021995, 0.74795754, 0.78969147],\n",
       "       [0.45652517, 0.89669381, 0.97195716],\n",
       "       [0.70307962, 0.82710889, 0.9231813 ],\n",
       "       [0.08534664, 0.63662957, 0.81322446],\n",
       "       [0.49742848, 0.81976769, 0.89590514],\n",
       "       [0.65896828, 0.69306551, 0.79998046],\n",
       "       [0.50724035, 0.08815849, 0.08316298],\n",
       "       [0.75001843, 0.88817625, 0.92125056]])"
      ]
     },
     "execution_count": 22,
     "metadata": {},
     "output_type": "execute_result"
    }
   ],
   "source": [
    "# x train\n",
    "np.concatenate(([dp], mesh_points[idx]))"
   ]
  },
  {
   "cell_type": "code",
   "execution_count": 23,
   "metadata": {},
   "outputs": [
    {
     "data": {
      "text/plain": [
       "array([-0.12212373,  0.04845762,  0.20492172], dtype=float32)"
      ]
     },
     "execution_count": 23,
     "metadata": {},
     "output_type": "execute_result"
    }
   ],
   "source": [
    "# y train\n",
    "velocity_values[dp_idx]"
   ]
  },
  {
   "cell_type": "code",
   "execution_count": 32,
   "metadata": {},
   "outputs": [
    {
     "data": {
      "text/plain": [
       "((104492, 3), (205074, 3))"
      ]
     },
     "execution_count": 32,
     "metadata": {},
     "output_type": "execute_result"
    }
   ],
   "source": [
    "velocity_values.shape, v['data_points'].shape"
   ]
  },
  {
   "cell_type": "code",
   "execution_count": null,
   "metadata": {},
   "outputs": [],
   "source": [
    "x_train = []\n",
    "y_train = []\n",
    "for v_idx, v in enumerate(iterator):\n",
    "    #print(f\"{v_idx}/{len(iterator)}\")\n",
    "    mesh_points = move_and_rescale_matrix(v['mesh_points'])\n",
    "    data_points = move_and_rescale_matrix(v['data_points'])\n",
    "    idx = pick_n_random_indices(mesh_points, 10)\n",
    "    for dp_idx, dp in enumerate(data_points):\n",
    "        x_train.append(np.concatenate(([dp], mesh_points[idx])))\n",
    "        y_train.append(v['velocity_systolic'][dp_idx])\n",
    "    print(f\"{v_idx}/{len(iterator)} ## {len(data_points)}\")\n",
    "    #     print(x_train, y_train)\n",
    "    #     break\n",
    "    # break"
   ]
  },
  {
   "cell_type": "code",
   "execution_count": 12,
   "metadata": {},
   "outputs": [],
   "source": [
    "x_train = np.array(x_train)\n",
    "y_train = np.array(y_train)"
   ]
  },
  {
   "cell_type": "code",
   "execution_count": 13,
   "metadata": {},
   "outputs": [
    {
     "data": {
      "text/plain": [
       "((24912190, 11, 3), (24912190, 3))"
      ]
     },
     "execution_count": 13,
     "metadata": {},
     "output_type": "execute_result"
    }
   ],
   "source": [
    "x_train.shape, y_train.shape"
   ]
  },
  {
   "cell_type": "code",
   "execution_count": null,
   "metadata": {},
   "outputs": [],
   "source": []
  }
 ],
 "metadata": {
  "kernelspec": {
   "display_name": ".venv",
   "language": "python",
   "name": "python3"
  },
  "language_info": {
   "codemirror_mode": {
    "name": "ipython",
    "version": 3
   },
   "file_extension": ".py",
   "mimetype": "text/x-python",
   "name": "python",
   "nbconvert_exporter": "python",
   "pygments_lexer": "ipython3",
   "version": "3.10.0"
  }
 },
 "nbformat": 4,
 "nbformat_minor": 2
}
