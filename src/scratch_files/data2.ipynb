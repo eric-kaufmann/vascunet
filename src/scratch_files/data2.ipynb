{
 "cells": [
  {
   "cell_type": "code",
   "execution_count": 65,
   "metadata": {},
   "outputs": [],
   "source": [
    "import torch\n",
    "from torch.utils.data import Dataset, DataLoader\n",
    "import os\n",
    "import meshio\n",
    "import numpy as np\n",
    "\n",
    "class VesselDataset(Dataset):\n",
    "\n",
    "    def __init__(self, data_path, num_points=10_000, seed=None):\n",
    "        if seed is not None:\n",
    "            torch.manual_seed(seed)\n",
    "            np.random.seed(seed)\n",
    "        else:\n",
    "            torch.seed()\n",
    "            np.random.seed()\n",
    "            \n",
    "        self.data_path = data_path\n",
    "        self.num_points = num_points\n",
    "        self.vessel_files = self._get_vessel_files()\n",
    "    \n",
    "\n",
    "    def __len__(self):\n",
    "        return len(self.vessel_files)\n",
    "\n",
    "    def __getitem__(self, idx): \n",
    "        raw_data = self._point_data_generator(self.vessel_files[idx])\n",
    "        transformed_data = self._transform_data(raw_data)\n",
    "        return transformed_data\n",
    "    \n",
    "    def _get_vessel_files(self):\n",
    "        \"\"\"\n",
    "        Retrieves the vessel files from the given directory.\n",
    "\n",
    "        Returns:\n",
    "        - list: A list of dictionaries, where each dictionary contains the paths to the fluid and mesh files.\n",
    "        \"\"\"\n",
    "        vessel_files = []\n",
    "        for fluid_filename in os.listdir(self.data_path):\n",
    "            if fluid_filename.endswith('fluid.vtu'):\n",
    "                fluid_file_path = os.path.join(self.data_path, fluid_filename)\n",
    "                mesh_file_path = fluid_file_path.replace('fluid.vtu', 'wss.vtu')\n",
    "                vessel_files.append({\n",
    "                    'fluid': fluid_file_path,\n",
    "                    'mesh': mesh_file_path\n",
    "                })\n",
    "        vessel_files = np.array(vessel_files)\n",
    "        return vessel_files\n",
    "        \n",
    "    def _point_data_generator(self, vessel_file:dict):\n",
    "        mesh_data = meshio.read(vessel_file['mesh'])\n",
    "        fluid_data = meshio.read(vessel_file['fluid'])\n",
    "        idx = np.random.choice(np.arange(fluid_data.points.shape[0]), self.num_points, replace=False)\n",
    "        return (\n",
    "            torch.concat([torch.Tensor(fluid_data.points), torch.Tensor(mesh_data.points)], axis=0)[idx],\n",
    "            torch.concat([torch.Tensor(fluid_data.point_data['velocity_systolic']), torch.zeros(mesh_data.points.shape)], axis=0)[idx]\n",
    "        )\n",
    "        \n",
    "    def _transform_data(self, raw_data):\n",
    "        points, velocities = raw_data\n",
    "        # Normalize points\n",
    "        points_min = points.min(dim=0, keepdim=True)[0]\n",
    "        points_max = points.max(dim=0, keepdim=True)[0]\n",
    "        points = (points - points_min) / (points_max - points_min)\n",
    "        \n",
    "        # Normalize velocities\n",
    "        velocities_min = velocities.min(dim=0, keepdim=True)[0]\n",
    "        velocities_max = velocities.max(dim=0, keepdim=True)[0]\n",
    "        velocities = (velocities - velocities_min) / (velocities_max - velocities_min)\n",
    "        \n",
    "        transformed_data = (points, velocities)\n",
    "        return transformed_data\n",
    "        "
   ]
  },
  {
   "cell_type": "code",
   "execution_count": 66,
   "metadata": {},
   "outputs": [],
   "source": [
    "from utils import helper_functions as hf\n",
    "\n",
    "DATA_DIR = hf.get_project_root() / \"data\" / \"carotid_flow_database\"\n",
    "\n",
    "dataset = VesselDataset(DATA_DIR, seed=666, num_points=2**14)\n"
   ]
  },
  {
   "cell_type": "code",
   "execution_count": 67,
   "metadata": {},
   "outputs": [
    {
     "data": {
      "text/plain": [
       "(tensor([[0.5977, 0.9025, 0.9175],\n",
       "         [0.7780, 0.4754, 0.5630],\n",
       "         [0.7306, 0.7770, 0.9250],\n",
       "         ...,\n",
       "         [0.5283, 0.8938, 0.9875],\n",
       "         [0.7848, 0.8543, 0.9215],\n",
       "         [0.6514, 0.4937, 0.6631]]),\n",
       " tensor([[0.8312, 0.5283, 0.2789],\n",
       "         [0.7661, 0.5935, 0.5132],\n",
       "         [0.8350, 0.5253, 0.2791],\n",
       "         ...,\n",
       "         [0.8312, 0.5283, 0.2789],\n",
       "         [0.8141, 0.6180, 0.2705],\n",
       "         [0.6939, 0.4990, 0.2858]]))"
      ]
     },
     "execution_count": 67,
     "metadata": {},
     "output_type": "execute_result"
    }
   ],
   "source": [
    "dataset[0]"
   ]
  },
  {
   "cell_type": "code",
   "execution_count": 72,
   "metadata": {},
   "outputs": [
    {
     "name": "stdout",
     "output_type": "stream",
     "text": [
      "90674\n",
      "408819\n",
      "221205.30534351146\n",
      "213490.0\n",
      "70369.29526899397\n",
      "175143.5\n",
      "265617.0\n",
      "310551.0\n",
      "359799.5\n"
     ]
    }
   ],
   "source": [
    "points_len = []\n",
    "for v in dataset.vessel_files:\n",
    "    #print(v)\n",
    "    mesh_data = meshio.read(v['mesh'])\n",
    "    fluid_data = meshio.read(v['fluid'])\n",
    "    points = torch.concat([torch.Tensor(fluid_data.points), torch.Tensor(mesh_data.points)], axis=0)\n",
    "    points_len.append(points.shape[0])\n",
    "\n",
    "points_len = np.array(points_len)\n",
    "print(np.min(points_len))\n",
    "print(np.max(points_len))\n",
    "print(np.mean(points_len))\n",
    "print(np.median(points_len))\n",
    "print(np.std(points_len))\n",
    "print(np.percentile(points_len, 25))\n",
    "print(np.percentile(points_len, 75))\n",
    "print(np.percentile(points_len, 90))\n",
    "print(np.percentile(points_len, 95))"
   ]
  },
  {
   "cell_type": "code",
   "execution_count": 68,
   "metadata": {},
   "outputs": [
    {
     "name": "stdout",
     "output_type": "stream",
     "text": [
      "[tensor([[[0.1501, 0.8338, 0.6671],\n",
      "         [0.3341, 0.9784, 0.8220],\n",
      "         [0.1431, 0.6293, 0.9405],\n",
      "         ...,\n",
      "         [0.2650, 0.7755, 0.9091],\n",
      "         [0.2290, 0.7263, 0.6795],\n",
      "         [0.2646, 0.6925, 0.8441]],\n",
      "\n",
      "        [[0.3469, 0.3809, 0.8417],\n",
      "         [0.9771, 0.2466, 0.0834],\n",
      "         [0.4456, 0.6446, 0.7740],\n",
      "         ...,\n",
      "         [0.5564, 0.6506, 0.6629],\n",
      "         [0.5361, 0.4245, 0.9789],\n",
      "         [0.5367, 0.4233, 0.9777]]]), tensor([[[0.6688, 0.3861, 0.2942],\n",
      "         [0.9922, 0.5380, 0.5451],\n",
      "         [0.8435, 0.3575, 0.4657],\n",
      "         ...,\n",
      "         [0.7357, 0.3779, 0.3655],\n",
      "         [0.7123, 0.4110, 0.3667],\n",
      "         [0.6973, 0.4278, 0.4220]],\n",
      "\n",
      "        [[0.5838, 0.4899, 0.3784],\n",
      "         [0.5838, 0.4899, 0.3784],\n",
      "         [0.5838, 0.4899, 0.3784],\n",
      "         ...,\n",
      "         [0.5749, 0.5032, 0.4033],\n",
      "         [0.5845, 0.5677, 0.5663],\n",
      "         [0.5841, 0.5599, 0.5507]]])]\n"
     ]
    }
   ],
   "source": [
    "dataloader = DataLoader(dataset, batch_size=2, shuffle=True, num_workers=2)\n",
    "for batch in dataloader:\n",
    "    print(batch)\n",
    "    break"
   ]
  },
  {
   "cell_type": "code",
   "execution_count": 60,
   "metadata": {},
   "outputs": [],
   "source": [
    "b1, b2 = batch"
   ]
  },
  {
   "cell_type": "code",
   "execution_count": 61,
   "metadata": {},
   "outputs": [
    {
     "data": {
      "text/plain": [
       "(torch.Size([2, 16384, 3]), torch.Size([2, 16384, 3]))"
      ]
     },
     "execution_count": 61,
     "metadata": {},
     "output_type": "execute_result"
    }
   ],
   "source": [
    "b1.shape, b2.shape"
   ]
  },
  {
   "cell_type": "code",
   "execution_count": 37,
   "metadata": {},
   "outputs": [
    {
     "data": {
      "text/plain": [
       "(torch.Size([2, 16384, 3]), torch.Size([2, 16384, 3]))"
      ]
     },
     "execution_count": 37,
     "metadata": {},
     "output_type": "execute_result"
    }
   ],
   "source": [
    "batch[0].shape, batch[1].shape"
   ]
  },
  {
   "cell_type": "code",
   "execution_count": 45,
   "metadata": {},
   "outputs": [],
   "source": [
    "import torch.nn as nn\n",
    "\n",
    "model = nn.Sequential(\n",
    "    nn.Flatten(),\n",
    "    nn.Linear(2**14*3, 2**12),\n",
    "    nn.ReLU(),\n",
    "    nn.Linear(2**12, 2**10),\n",
    "    nn.ReLU(),\n",
    "    nn.Linear(2**10, 2**12),\n",
    "    nn.ReLU(),\n",
    "    nn.Linear(2**12, 2**14*3),\n",
    ")"
   ]
  },
  {
   "cell_type": "code",
   "execution_count": 55,
   "metadata": {},
   "outputs": [
    {
     "data": {
      "text/plain": [
       "torch.Size([2, 49152])"
      ]
     },
     "execution_count": 55,
     "metadata": {},
     "output_type": "execute_result"
    }
   ],
   "source": [
    "out = model(batch[0])\n",
    "out.shape"
   ]
  },
  {
   "cell_type": "code",
   "execution_count": 56,
   "metadata": {},
   "outputs": [
    {
     "data": {
      "text/plain": [
       "torch.Size([2, 16384, 3])"
      ]
     },
     "execution_count": 56,
     "metadata": {},
     "output_type": "execute_result"
    }
   ],
   "source": [
    "out = out.reshape(batch[1].shape)\n",
    "out.shape"
   ]
  },
  {
   "cell_type": "code",
   "execution_count": 57,
   "metadata": {},
   "outputs": [
    {
     "data": {
      "text/plain": [
       "tensor(2.7733, grad_fn=<MseLossBackward0>)"
      ]
     },
     "execution_count": 57,
     "metadata": {},
     "output_type": "execute_result"
    }
   ],
   "source": [
    "criterion = nn.MSELoss()\n",
    "loss = criterion(out, batch[1])\n",
    "loss"
   ]
  },
  {
   "cell_type": "code",
   "execution_count": null,
   "metadata": {},
   "outputs": [],
   "source": []
  }
 ],
 "metadata": {
  "kernelspec": {
   "display_name": ".venv",
   "language": "python",
   "name": "python3"
  },
  "language_info": {
   "codemirror_mode": {
    "name": "ipython",
    "version": 3
   },
   "file_extension": ".py",
   "mimetype": "text/x-python",
   "name": "python",
   "nbconvert_exporter": "python",
   "pygments_lexer": "ipython3",
   "version": "3.9.13"
  }
 },
 "nbformat": 4,
 "nbformat_minor": 2
}
